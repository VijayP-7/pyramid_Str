{
 "cells": [
  {
   "cell_type": "markdown",
   "id": "3b861405",
   "metadata": {},
   "source": [
    "\n",
    "# Write a Python Program to print full pyramid using '*' symbol"
   ]
  },
  {
   "cell_type": "code",
   "execution_count": 18,
   "id": "38be3f26",
   "metadata": {},
   "outputs": [
    {
     "name": "stdout",
     "output_type": "stream",
     "text": [
      "*\n",
      "***\n",
      "*****\n",
      "*******\n",
      "*********\n"
     ]
    }
   ],
   "source": [
    "rows = 9\n",
    "i = 1\n",
    "while i<=rows:\n",
    "    j = 1\n",
    "    while j<=i:\n",
    "        print((\"*\"),end=\"\")\n",
    "        j = j+1\n",
    "    i = i+2\n",
    "    print('')"
   ]
  }
 ],
 "metadata": {
  "kernelspec": {
   "display_name": "Python 3 (ipykernel)",
   "language": "python",
   "name": "python3"
  },
  "language_info": {
   "codemirror_mode": {
    "name": "ipython",
    "version": 3
   },
   "file_extension": ".py",
   "mimetype": "text/x-python",
   "name": "python",
   "nbconvert_exporter": "python",
   "pygments_lexer": "ipython3",
   "version": "3.9.12"
  }
 },
 "nbformat": 4,
 "nbformat_minor": 5
}
